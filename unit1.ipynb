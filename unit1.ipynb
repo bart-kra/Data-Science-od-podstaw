{
  "nbformat": 4,
  "nbformat_minor": 0,
  "metadata": {
    "colab": {
      "provenance": [],
      "authorship_tag": "ABX9TyOi/bnU8fZfoVx3AkljNR4x",
      "include_colab_link": true
    },
    "kernelspec": {
      "name": "python3",
      "display_name": "Python 3"
    },
    "language_info": {
      "name": "python"
    }
  },
  "cells": [
    {
      "cell_type": "markdown",
      "metadata": {
        "id": "view-in-github",
        "colab_type": "text"
      },
      "source": [
        "<a href=\"https://colab.research.google.com/github/bart-kra/Data-Science-od-podstaw/blob/main/unit1.ipynb\" target=\"_parent\"><img src=\"https://colab.research.google.com/assets/colab-badge.svg\" alt=\"Open In Colab\"/></a>"
      ]
    },
    {
      "cell_type": "code",
      "execution_count": 1,
      "metadata": {
        "id": "oaNSCQe9cjCE"
      },
      "outputs": [],
      "source": [
        "from collections import Counter\n",
        "from collections import defaultdict\n",
        "from matplotlib import pyplot as plt"
      ]
    },
    {
      "cell_type": "code",
      "source": [
        "# CREATING LIST OF USERS\n",
        "users = [{'id': 0, 'name': 'Arthur'},\n",
        "         {'id': 1, 'name': 'Bob'},\n",
        "         {'id': 2, 'name': 'Charlie'},\n",
        "         {'id': 3, 'name': 'Daniel'},\n",
        "         {'id': 4, 'name': 'Edward'},\n",
        "         {'id': 5, 'name': 'Frank'},\n",
        "         {'id': 6, 'name': 'Gary'},\n",
        "         {'id': 7, 'name': 'Hans'},\n",
        "         {'id': 8, 'name': 'Igor'},\n",
        "         {'id': 9, 'name': 'John'}]\n",
        "\n",
        "# CREATING PAIRS OF FRIENDS\n",
        "friendship_pairs = [(0, 2), (0, 3), (0, 6), (0, 8), (1,2), (1, 6), (1, 8), (1, 9),\n",
        "               (2, 5), (2, 8), (2, 9), (3, 4), (3, 5), (3, 7), (4, 6), (4, 8),\n",
        "               (5, 9), (6, 7), (6, 8), (7, 9), (8, 9)]\n",
        "\n",
        "# CREATING INTERESTS LIST\n",
        "interests = [(0, 'Python'), (0, 'Big Data'), (0, 'SQL'), (0, 'banking'), (0, 'Data Science'),\n",
        "             (1, 'Java'), (1, 'Programming'), (1, 'Jenkins'),\n",
        "             (2, 'Big Data'), (2, 'java'), (3, 'Parallel computing'), (3, 'Deep Learing'),\n",
        "             (4, 'R'), (4, 'Social Nets'), (3, 'Natural Language Processing'),\n",
        "             (5, 'Python'), (5, 'Programming'), (5, 'Deep Learning'), (5, 'Docker'), (5, 'Data Science'), (5, 'Big data'),\n",
        "             (6, 'Java'), (6, 'Jenkins'), (6, 'Parallel Computing'), (6, 'Machine learning'),\n",
        "             (7, 'R'), (7, 'Social Nets'), (7, 'deep Learning'), (7, 'Docker'), (7, 'Data science'),\n",
        "             (8, 'Python'), (8, 'Banking'), (8, 'SQL'), (8, 'Big Data'),\n",
        "             (9, 'Python'), (9, 'programming'), (9, 'Jenkins'), (9, 'Docker')]\n",
        "\n",
        "# CREATING SALARIES-TENURE LIST\n",
        "salaries = [(1, 8000), (1, 6000), (1, 7500), (1.5, 7500), (1.5, 6000), (1.5, 9000), (2, 7000), (2, 12000), (2.5, 10500),\n",
        "            (2.5, 9500), (3, 14000), (3, 12500), (3, 16000), (3.5, 12700), (3.5, 14000), (3.5, 9600),\n",
        "            (4, 15000), (4, 15500), (4, 18000), (5, 20000), (5, 15000), (5, 13500), (5, 19900)]"
      ],
      "metadata": {
        "id": "cxFh3BDqi34o"
      },
      "execution_count": 2,
      "outputs": []
    },
    {
      "cell_type": "code",
      "source": [
        "# CREATING DISCTIONARY OF FRIENDS LISTS\n",
        "friendships = {user['id']: [] for user in users}\n",
        "for i, j in friendship_pairs:\n",
        "  friendships[i].append(j)\n",
        "  friendships[j].append(i)"
      ],
      "metadata": {
        "id": "8m1aDz-meMj1"
      },
      "execution_count": 3,
      "outputs": []
    },
    {
      "cell_type": "code",
      "source": [
        "# AVERAGE FRIENDS NUMBER\n",
        "def number_of_friends(user):\n",
        "  user_id = user['id']\n",
        "  return len(friendships[user_id])\n",
        "\n",
        "total_friendships = sum(number_of_friends(user) for user in users)\n",
        "avg_number_of_friends = total_friendships / len(users)"
      ],
      "metadata": {
        "id": "hG7GmcE7fRJx"
      },
      "execution_count": 4,
      "outputs": []
    },
    {
      "cell_type": "code",
      "source": [
        "# SORTING USERS ON NUMBER OF FRIENDS\n",
        "sum_friends_by_id = [(user['id'], number_of_friends(user)) for user in users]\n",
        "sum_friends_by_id.sort(key = lambda id_and_friends: id_and_friends[1], reverse=True)"
      ],
      "metadata": {
        "id": "9q86n3L1gEe0"
      },
      "execution_count": 5,
      "outputs": []
    },
    {
      "cell_type": "code",
      "source": [
        "# FOAF\n",
        "def foaf_ids(user):\n",
        "  return Counter(foaf_id\n",
        "          for friend_id in friendships[user['id']]\n",
        "          for foaf_id in friendships[friend_id]\n",
        "          if foaf_id != user['id'] and foaf_id not in friendships[user['id']])\n",
        "\n",
        "list((user['id'], foaf_ids(user)) for user in users)"
      ],
      "metadata": {
        "colab": {
          "base_uri": "https://localhost:8080/"
        },
        "id": "viYww5PpguFH",
        "outputId": "31ea3f32-1786-4c07-9608-d7646e353eb8"
      },
      "execution_count": 6,
      "outputs": [
        {
          "output_type": "execute_result",
          "data": {
            "text/plain": [
              "[(0, Counter({1: 3, 5: 2, 9: 2, 4: 3, 7: 2})),\n",
              " (1, Counter({0: 3, 5: 2, 4: 2, 7: 2})),\n",
              " (2, Counter({3: 2, 6: 3, 4: 1, 7: 1})),\n",
              " (3, Counter({2: 2, 6: 3, 8: 2, 9: 2})),\n",
              " (4, Counter({0: 3, 5: 1, 7: 2, 1: 2, 2: 1, 9: 1})),\n",
              " (5, Counter({0: 2, 1: 2, 8: 2, 4: 1, 7: 2})),\n",
              " (6, Counter({2: 3, 3: 3, 9: 3})),\n",
              " (7, Counter({0: 2, 4: 2, 5: 2, 1: 2, 8: 2, 2: 1})),\n",
              " (8, Counter({3: 2, 5: 2, 7: 2})),\n",
              " (9, Counter({6: 3, 0: 2, 3: 2, 4: 1}))]"
            ]
          },
          "metadata": {},
          "execution_count": 6
        }
      ]
    },
    {
      "cell_type": "code",
      "source": [
        "# SEARCHING USERS WITH PARTICULAR INTEREST\n",
        "def user_likes(target_interest):\n",
        "  return [user_id for user_id, interest in interests\n",
        "  if interest == target_interest]\n",
        "[(interest, user_likes(interest)) for interest in set(interest for id, interest in interests)]"
      ],
      "metadata": {
        "colab": {
          "base_uri": "https://localhost:8080/"
        },
        "id": "5Uji7gFmgue_",
        "outputId": "f00e5868-4b3e-40e2-c7b4-5e6826c5a299"
      },
      "execution_count": 7,
      "outputs": [
        {
          "output_type": "execute_result",
          "data": {
            "text/plain": [
              "[('R', [4, 7]),\n",
              " ('Big Data', [0, 2, 8]),\n",
              " ('Data Science', [0, 5]),\n",
              " ('Parallel computing', [3]),\n",
              " ('Deep Learing', [3]),\n",
              " ('Java', [1, 6]),\n",
              " ('Data science', [7]),\n",
              " ('SQL', [0, 8]),\n",
              " ('Jenkins', [1, 6, 9]),\n",
              " ('deep Learning', [7]),\n",
              " ('Docker', [5, 7, 9]),\n",
              " ('programming', [9]),\n",
              " ('Big data', [5]),\n",
              " ('java', [2]),\n",
              " ('Programming', [1, 5]),\n",
              " ('Parallel Computing', [6]),\n",
              " ('Banking', [8]),\n",
              " ('Social Nets', [4, 7]),\n",
              " ('banking', [0]),\n",
              " ('Python', [0, 5, 8, 9]),\n",
              " ('Deep Learning', [5]),\n",
              " ('Natural Language Processing', [3]),\n",
              " ('Machine learning', [6])]"
            ]
          },
          "metadata": {},
          "execution_count": 7
        }
      ]
    },
    {
      "cell_type": "code",
      "source": [
        "# INDEXING BY INTERESTS\n",
        "user_ids_by_interest = defaultdict(list)\n",
        "for user_id, interest in interests:\n",
        "  user_ids_by_interest[interest].append(user_id)\n",
        "user_ids_by_interest"
      ],
      "metadata": {
        "colab": {
          "base_uri": "https://localhost:8080/"
        },
        "id": "uCcSr2jQn1Fp",
        "outputId": "5ac2c15c-dcae-48a6-86bf-ed9d4db61778"
      },
      "execution_count": 8,
      "outputs": [
        {
          "output_type": "execute_result",
          "data": {
            "text/plain": [
              "defaultdict(list,\n",
              "            {'Python': [0, 5, 8, 9],\n",
              "             'Big Data': [0, 2, 8],\n",
              "             'SQL': [0, 8],\n",
              "             'banking': [0],\n",
              "             'Data Science': [0, 5],\n",
              "             'Java': [1, 6],\n",
              "             'Programming': [1, 5],\n",
              "             'Jenkins': [1, 6, 9],\n",
              "             'java': [2],\n",
              "             'Parallel computing': [3],\n",
              "             'Deep Learing': [3],\n",
              "             'R': [4, 7],\n",
              "             'Social Nets': [4, 7],\n",
              "             'Natural Language Processing': [3],\n",
              "             'Deep Learning': [5],\n",
              "             'Docker': [5, 7, 9],\n",
              "             'Big data': [5],\n",
              "             'Parallel Computing': [6],\n",
              "             'Machine learning': [6],\n",
              "             'deep Learning': [7],\n",
              "             'Data science': [7],\n",
              "             'Banking': [8],\n",
              "             'programming': [9]})"
            ]
          },
          "metadata": {},
          "execution_count": 8
        }
      ]
    },
    {
      "cell_type": "code",
      "source": [
        "# INDEXING BY USERS\n",
        "interests_by_user = defaultdict(list)\n",
        "for user_id, interest in interests:\n",
        "  interests_by_user[user_id].append(interest)\n",
        "interests_by_user"
      ],
      "metadata": {
        "colab": {
          "base_uri": "https://localhost:8080/"
        },
        "id": "AFj0WhfaUFeH",
        "outputId": "c5bb92c1-39fa-4b4a-a6d5-b214c48f5ffd"
      },
      "execution_count": 9,
      "outputs": [
        {
          "output_type": "execute_result",
          "data": {
            "text/plain": [
              "defaultdict(list,\n",
              "            {0: ['Python', 'Big Data', 'SQL', 'banking', 'Data Science'],\n",
              "             1: ['Java', 'Programming', 'Jenkins'],\n",
              "             2: ['Big Data', 'java'],\n",
              "             3: ['Parallel computing',\n",
              "              'Deep Learing',\n",
              "              'Natural Language Processing'],\n",
              "             4: ['R', 'Social Nets'],\n",
              "             5: ['Python',\n",
              "              'Programming',\n",
              "              'Deep Learning',\n",
              "              'Docker',\n",
              "              'Data Science',\n",
              "              'Big data'],\n",
              "             6: ['Java', 'Jenkins', 'Parallel Computing', 'Machine learning'],\n",
              "             7: ['R',\n",
              "              'Social Nets',\n",
              "              'deep Learning',\n",
              "              'Docker',\n",
              "              'Data science'],\n",
              "             8: ['Python', 'Banking', 'SQL', 'Big Data'],\n",
              "             9: ['Python', 'programming', 'Jenkins', 'Docker']})"
            ]
          },
          "metadata": {},
          "execution_count": 9
        }
      ]
    },
    {
      "cell_type": "code",
      "source": [
        "# SELECTING USERS WITH THE MOST COMMON INTERESTS\n",
        "def most_common_interests_with(user):\n",
        "  return Counter(interested_user_id\n",
        "                 for interest in interests_by_user[user['id']]\n",
        "                 for interested_user_id in user_ids_by_interest[interest]\n",
        "                 if interested_user_id != user['id'])\n",
        "\n",
        "[(user['id'], most_common_interests_with(user)) for user in users]"
      ],
      "metadata": {
        "colab": {
          "base_uri": "https://localhost:8080/"
        },
        "id": "0ye9TYDrVbVO",
        "outputId": "f5e6f2db-7039-4fd8-c248-c371a3178441"
      },
      "execution_count": 10,
      "outputs": [
        {
          "output_type": "execute_result",
          "data": {
            "text/plain": [
              "[(0, Counter({5: 2, 8: 3, 9: 1, 2: 1})),\n",
              " (1, Counter({6: 2, 5: 1, 9: 1})),\n",
              " (2, Counter({0: 1, 8: 1})),\n",
              " (3, Counter()),\n",
              " (4, Counter({7: 2})),\n",
              " (5, Counter({0: 2, 8: 1, 9: 2, 1: 1, 7: 1})),\n",
              " (6, Counter({1: 2, 9: 1})),\n",
              " (7, Counter({4: 2, 5: 1, 9: 1})),\n",
              " (8, Counter({0: 3, 5: 1, 9: 1, 2: 1})),\n",
              " (9, Counter({0: 1, 5: 2, 8: 1, 1: 1, 6: 1, 7: 1}))]"
            ]
          },
          "metadata": {},
          "execution_count": 10
        }
      ]
    },
    {
      "cell_type": "code",
      "source": [
        "# CREATING SALARY-TENURE CHART\n",
        "salary, tenure = zip(*salaries)\n",
        "plt.scatter(salary, tenure)\n",
        "plt.xlabel('Tenure (years)')\n",
        "plt.ylabel('Salary (PLN/MO)')\n",
        "plt.title('Salary-Tenure')"
      ],
      "metadata": {
        "colab": {
          "base_uri": "https://localhost:8080/",
          "height": 489
        },
        "id": "hr1lUUW0e-q3",
        "outputId": "8c724de2-ad8e-4284-e851-22785ae74d68"
      },
      "execution_count": 11,
      "outputs": [
        {
          "output_type": "execute_result",
          "data": {
            "text/plain": [
              "Text(0.5, 1.0, 'Salary-Tenure')"
            ]
          },
          "metadata": {},
          "execution_count": 11
        },
        {
          "output_type": "display_data",
          "data": {
            "text/plain": [
              "<Figure size 640x480 with 1 Axes>"
            ],
            "image/png": "[encoded data removed]"
          },
          "metadata": {}
        }
      ]
    },
    {
      "cell_type": "code",
      "source": [
        "# AVERAGE SALARIES DEPENDED ON TENURE\n",
        "def tenure_bucket(tenure):\n",
        "  if tenure < 2:\n",
        "    return '<2'\n",
        "  elif tenure < 4:\n",
        "    return '2-4'\n",
        "  else:\n",
        "    return '>=5'\n",
        "\n",
        "salary_by_tenure = defaultdict(list)\n",
        "for tenure, salary in salaries:\n",
        "  bucket = tenure_bucket(tenure)\n",
        "  salary_by_tenure[bucket].append(salary)\n",
        "\n",
        "avg_salary_by_bucket = {tenure_bucket : sum(salary) / len(salary)\n",
        "                        for tenure_bucket, salary in salary_by_tenure.items()}\n",
        "avg_salary_by_bucket"
      ],
      "metadata": {
        "colab": {
          "base_uri": "https://localhost:8080/"
        },
        "id": "J01OMecmg0cx",
        "outputId": "859e55b1-1316-409e-faa8-27ba2ca81e3d"
      },
      "execution_count": 12,
      "outputs": [
        {
          "output_type": "execute_result",
          "data": {
            "text/plain": [
              "{'<2': 7333.333333333333, '2-4': 11780.0, '>=5': 16700.0}"
            ]
          },
          "metadata": {},
          "execution_count": 12
        }
      ]
    },
    {
      "cell_type": "code",
      "source": [
        "# FIND THE MOST COMMON INTEREST\n",
        "words_and_counts = Counter(word\n",
        "                           for user, interest in interests\n",
        "                           for word in interest.lower().split(' '))\n",
        "words_and_counts"
      ],
      "metadata": {
        "colab": {
          "base_uri": "https://localhost:8080/"
        },
        "id": "halczhpJnu0F",
        "outputId": "d14eea4b-0104-441f-d039-962756c778f1"
      },
      "execution_count": 13,
      "outputs": [
        {
          "output_type": "execute_result",
          "data": {
            "text/plain": [
              "Counter({'python': 4,\n",
              "         'big': 4,\n",
              "         'data': 7,\n",
              "         'sql': 2,\n",
              "         'banking': 2,\n",
              "         'science': 3,\n",
              "         'java': 3,\n",
              "         'programming': 3,\n",
              "         'jenkins': 3,\n",
              "         'parallel': 2,\n",
              "         'computing': 2,\n",
              "         'deep': 3,\n",
              "         'learing': 1,\n",
              "         'r': 2,\n",
              "         'social': 2,\n",
              "         'nets': 2,\n",
              "         'natural': 1,\n",
              "         'language': 1,\n",
              "         'processing': 1,\n",
              "         'learning': 3,\n",
              "         'docker': 3,\n",
              "         'machine': 1})"
            ]
          },
          "metadata": {},
          "execution_count": 13
        }
      ]
    }
  ]
}