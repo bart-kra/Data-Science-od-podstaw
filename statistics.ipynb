{
  "nbformat": 4,
  "nbformat_minor": 0,
  "metadata": {
    "colab": {
      "provenance": [],
      "authorship_tag": "ABX9TyMv3QMBnqoCeona6pt9OHAW",
      "include_colab_link": true
    },
    "kernelspec": {
      "name": "python3",
      "display_name": "Python 3"
    },
    "language_info": {
      "name": "python"
    }
  },
  "cells": [
    {
      "cell_type": "markdown",
      "metadata": {
        "id": "view-in-github",
        "colab_type": "text"
      },
      "source": [
        "<a href=\"https://colab.research.google.com/github/bart-kra/Data-Science-od-podstaw/blob/main/statistics.ipynb\" target=\"_parent\"><img src=\"https://colab.research.google.com/assets/colab-badge.svg\" alt=\"Open In Colab\"/></a>"
      ]
    },
    {
      "cell_type": "code",
      "source": [
        "from typing import List\n",
        "import math\n",
        "import os\n",
        "from distutils.dir_util import copy_tree"
      ],
      "metadata": {
        "id": "7PdiTeDAaxqH"
      },
      "execution_count": 4,
      "outputs": []
    },
    {
      "cell_type": "code",
      "execution_count": 5,
      "metadata": {
        "id": "Tt-CP1mRaqB9"
      },
      "outputs": [],
      "source": [
        "# MEAN\n",
        "def mean(values: List[float]) -> float:\n",
        "  return sum(values) / len(values)"
      ]
    },
    {
      "cell_type": "code",
      "source": [
        "# MEDIAN\n",
        "def median_odd(values: List[float]) -> float:\n",
        "  return sorted(values)[len(values) // 2]\n",
        "def median_even(values: List[float]) -> float:\n",
        "  hi_mid_point = len(values) // 2\n",
        "  return (sorted(values)[hi_mid_point - 1] + sorted(values)[hi_mid_point]) / 2\n",
        "def median(values: List[float]) -> float:\n",
        "  return median_odd(values) if len(values) % 2 == 0 else median_even(values)"
      ],
      "metadata": {
        "id": "HbM0Y1GIbao8"
      },
      "execution_count": 7,
      "outputs": []
    },
    {
      "cell_type": "code",
      "source": [
        "# QUANTILE\n",
        "def quantile(values: List[float], p: float) -> float:\n",
        "  return sorted(values)[int(len(values) * p) - 1]"
      ],
      "metadata": {
        "id": "xfOC1jKPkMqD"
      },
      "execution_count": 8,
      "outputs": []
    },
    {
      "cell_type": "code",
      "source": [
        "# DISPERSION (RANGE)\n",
        "def data_range(values: List[float]) -> float:\n",
        "  return max(values) - min(values)"
      ],
      "metadata": {
        "id": "2iDt7bxobS-U"
      },
      "execution_count": 9,
      "outputs": []
    },
    {
      "cell_type": "code",
      "source": [
        "# VARIANCE\n",
        "def de_mean(values: List[float]) -> List[float]:\n",
        "  return [x - mean(values) for x in values]\n",
        "def sum_of_squares(values: List[float]) -> float:\n",
        "  return sum([x ** 2 for x in values])\n",
        "def variance(values: List[float]) -> float:\n",
        "  assert len(values), 'Variance needs at least two values'\n",
        "  deviations = de_mean(values)\n",
        "  return sum_of_squares(deviations) / (len(values) - 1)"
      ],
      "metadata": {
        "id": "032wvKD-oW7j"
      },
      "execution_count": 10,
      "outputs": []
    },
    {
      "cell_type": "code",
      "source": [
        "# STANDARD DEVIATION\n",
        "def standard_deviation(values: List[float]) -> float:\n",
        "  return math.sqrt(variance(values))"
      ],
      "metadata": {
        "id": "iU3zVETQbTB2"
      },
      "execution_count": 11,
      "outputs": []
    },
    {
      "cell_type": "code",
      "source": [
        "# INTERQUANTILE RANGE (0.25-0.75)\n",
        "def interquantile_range(values: List[float]) -> float:\n",
        "  return quantile(values, 0.75) - quantile(values, 0.25)"
      ],
      "metadata": {
        "id": "SNc5MVAQrEWh"
      },
      "execution_count": 12,
      "outputs": []
    },
    {
      "cell_type": "code",
      "source": [
        "# COVARIANCE\n",
        "def dot(xvalues: List[float], yvalues: List[float]) -> List[float]:\n",
        "  return sum([x * y for x, y in zip(xvalues, yvalues)])\n",
        "def covariance(xvalues: List[float], yvalues: List[float]) -> float:\n",
        "  assert len(xvalues) == len(yvalues), 'Vectors must be the same length'\n",
        "  return dot(de_mean(xvalues), de_mean(yvalues)) / (len(xvalues) - 1)"
      ],
      "metadata": {
        "id": "Y_EhF7wQrqcY"
      },
      "execution_count": 17,
      "outputs": []
    },
    {
      "cell_type": "code",
      "source": [
        "# CORRELATION\n",
        "def correlation(xvalues: List[float], yvalues: List[float]) -> float:\n",
        "  stdev_x = standard_deviation(xvalues)\n",
        "  stdev_y = standard_deviation(yvalues)\n",
        "  return covariance(xvalues, yvalues) / stdev_x / stdev_y if (stdev_x and stdev_y) > 0 else 0"
      ],
      "metadata": {
        "id": "e8-YIaY05V0o"
      },
      "execution_count": 26,
      "outputs": []
    }
  ]
}